{
 "cells": [
  {
   "cell_type": "code",
   "execution_count": 1,
   "metadata": {},
   "outputs": [],
   "source": [
    "import sqlite3\n",
    "import pandas as pd\n",
    "import numpy as np\n",
    "import datetime as dt\n",
    "from StockSentimentAnalysis import news_sentiment\n",
    "from StockSentimentAnalysis.FinancialModelingPrep.indices import Index\n",
    "from typing import Union, Optional\n",
    "\n",
    "sql_conn = sqlite3.connect('./data/spx_news_sentiment_price.db')\n",
    "cursor = sql_conn.cursor()\n",
    "\n"
   ]
  },
  {
   "cell_type": "code",
   "execution_count": 2,
   "metadata": {},
   "outputs": [],
   "source": [
    "\n",
    "\n",
    "START_DATE = dt.date(2020, 1, 1)"
   ]
  },
  {
   "cell_type": "code",
   "execution_count": 4,
   "metadata": {},
   "outputs": [],
   "source": [
    "def main(index: str='SPX', \n",
    "    start_date: Union[dt.date, str]=START_DATE,\n",
    "    print_every: int=10,\n",
    "    verbose: bool=True,\n",
    "    output: str='sql'):\n",
    "    \"\"\"\n",
    "    :param index: str\n",
    "    :param start_date: Union[dt.date, str]\n",
    "    :param print_every: int\n",
    "    :param verbose: bool\n",
    "    :param output: str, takes 'sql', 'csv'\n",
    "    \"\"\"\n",
    "    ticker_list = Index.get_members(index)\n",
    "    tickers = ticker_list.index.to_list()\n",
    "    total = len(tickers)\n",
    "    if isinstance(start_date, str):\n",
    "        start_date = dt.datetime.strptime(start_date, '%Y-%m-%d').date()\n",
    "    elif isinstance(start_date, dt.date):\n",
    "        pass\n",
    "    else:\n",
    "        raise TypeError(\"start_date must be a datetime.date or a string\")\n",
    "    for i, ticker in enumerate(tickers):\n",
    "        if verbose: print(ticker)\n",
    "        if i % print_every == 0:\n",
    "            print(f\"{i / total * 100:.2f}% done\")\n",
    "        price_news = news_sentiment.get_daily_sentiment_series(\n",
    "            ticker, start_date=start_date)\n",
    "        if output == 'sql':\n",
    "            price_news.T.to_sql(ticker, sql_conn, if_exists='replace', index=True)\n",
    "        elif output == 'csv':\n",
    "            price_news.T.to_csv(f'./data/news_price/{ticker}.csv')"
   ]
  },
  {
   "cell_type": "code",
   "execution_count": null,
   "metadata": {},
   "outputs": [],
   "source": [
    "main()"
   ]
  }
 ],
 "metadata": {
  "kernelspec": {
   "display_name": "Python 3.9.12 ('sent_env')",
   "language": "python",
   "name": "python3"
  },
  "language_info": {
   "codemirror_mode": {
    "name": "ipython",
    "version": 3
   },
   "file_extension": ".py",
   "mimetype": "text/x-python",
   "name": "python",
   "nbconvert_exporter": "python",
   "pygments_lexer": "ipython3",
   "version": "3.9.12"
  },
  "orig_nbformat": 4,
  "vscode": {
   "interpreter": {
    "hash": "3fa5fd258d5799b56102c839ebdb81d43440c6319b18894ac20aca9c2309d787"
   }
  }
 },
 "nbformat": 4,
 "nbformat_minor": 2
}
